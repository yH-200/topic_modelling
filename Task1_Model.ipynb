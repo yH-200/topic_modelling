{
 "cells": [
  {
   "cell_type": "markdown",
   "id": "cc29941b",
   "metadata": {},
   "source": [
    "### Training the model SCHOLAR\n",
    "The model is trained and evaluated on four instances of the dataset. <br>\n",
    "Each instance contains different paramaters; therefore, they are provided below for execution straight away. <br>\n",
    "Note: The Word2Vec embedding is not included in this submission; therefore, it has to be downloaded separately and used for training the models"
   ]
  },
  {
   "cell_type": "code",
   "execution_count": null,
   "id": "f6a5f379",
   "metadata": {},
   "outputs": [],
   "source": [
    "import sys\n",
    "sys.path.insert(0, \"scholar\")"
   ]
  },
  {
   "cell_type": "code",
   "execution_count": null,
   "id": "0a9d1f95",
   "metadata": {},
   "outputs": [],
   "source": [
    "import csv\n",
    "import numpy as np\n",
    "import preprocess_data\n",
    "import run_scholar"
   ]
  },
  {
   "cell_type": "markdown",
   "id": "79cf7e6e",
   "metadata": {},
   "source": [
    "### First instance of the Dataset: Binary without Covariates"
   ]
  },
  {
   "cell_type": "code",
   "execution_count": null,
   "id": "17e3c2d3",
   "metadata": {},
   "outputs": [],
   "source": [
    "# Preprocess the datasets\n",
    "script = 'preprocess_data.py'\n",
    "args = 'Task1_Outputs/Binary_Dataset/train.jsonlist Task1_Outputs/Binary_Dataset/Without_Covariates --min-doc-count 10 --label label --test=Task1_Outputs/Binary_Dataset/test.jsonlist'\n",
    "print(\"python\", script, args)\n",
    "preprocess_data.main(args.split())"
   ]
  },
  {
   "cell_type": "code",
   "execution_count": null,
   "id": "10cfad9e",
   "metadata": {},
   "outputs": [],
   "source": [
    "script = 'run_scholar.py'\n",
    "args = 'Task1_Outputs/Binary_Dataset/Without_Covariates/ -o Task1_Outputs/Binary_Dataset/Without_Covariates/Output -k 15 --epochs 70 --dev-folds 10 --seed 42 --w2v=GoogleNews-vectors-negative300.bin --label label --test=test'\n",
    "print(\"python\", script, args)\n",
    "run_scholar.main(args.split())"
   ]
  },
  {
   "cell_type": "markdown",
   "id": "2f3a2e04",
   "metadata": {},
   "source": [
    "### Second instance of the Dataset: Binary with Covariates"
   ]
  },
  {
   "cell_type": "code",
   "execution_count": null,
   "id": "1aa5a7e2",
   "metadata": {},
   "outputs": [],
   "source": [
    "# Preprocess the datasets\n",
    "script = 'preprocess_data.py'\n",
    "args = 'Task1_Outputs/Binary_Dataset/train.jsonlist Task1_Outputs/Binary_Dataset/With_Covariates --min-doc-count 10 --label label,aspect_1,aspect_2,aspect_3,aspect_4 --test=Task1_Outputs/Binary_Dataset/test.jsonlist'\n",
    "print(\"python\", script, args)\n",
    "preprocess_data.main(args.split())"
   ]
  },
  {
   "cell_type": "code",
   "execution_count": null,
   "id": "78428f95",
   "metadata": {},
   "outputs": [],
   "source": [
    "script = 'run_scholar.py'\n",
    "args = 'Task1_Outputs/Binary_Dataset/With_Covariates/ -o Task1_Outputs/Binary_Dataset/With_Covariates/Output -k 15 --epochs 70 --dev-folds 10 --seed 42 --w2v=GoogleNews-vectors-negative300.bin --topic-covars aspect_1,aspect_2,aspect_3,aspect_4 --min-topic-covar-count 10 --label label --test=test'\n",
    "print(\"python\", script, args)\n",
    "run_scholar.main(args.split())"
   ]
  },
  {
   "cell_type": "markdown",
   "id": "a69a7bf7",
   "metadata": {},
   "source": [
    "### Third instance of the Dataset: Ternary without Covariates"
   ]
  },
  {
   "cell_type": "code",
   "execution_count": null,
   "id": "e5b7009e",
   "metadata": {},
   "outputs": [],
   "source": [
    "# Preprocess the datasets\n",
    "script = 'preprocess_data.py'\n",
    "args = 'Task1_Outputs/Ternary_Dataset/train.jsonlist Task1_Outputs/Ternary_Dataset/Without_Covariates --min-doc-count 10 --label label --test=Task1_Outputs/Ternary_Dataset/test.jsonlist'\n",
    "print(\"python\", script, args)\n",
    "preprocess_data.main(args.split())"
   ]
  },
  {
   "cell_type": "code",
   "execution_count": null,
   "id": "b61e5e30",
   "metadata": {},
   "outputs": [],
   "source": [
    "script = 'run_scholar.py'\n",
    "args = 'Task1_Outputs/Ternary_Dataset/Without_Covariates/ -o Task1_Outputs/Ternary_Dataset/Without_Covariates/Output -k 15 --epochs 70 --dev-folds 10 --seed 42 --w2v=GoogleNews-vectors-negative300.bin --label label --test=test'\n",
    "print(\"python\", script, args)\n",
    "run_scholar.main(args.split())"
   ]
  },
  {
   "cell_type": "markdown",
   "id": "d5d35ee0",
   "metadata": {},
   "source": [
    "### Fourth instance of the Dataset: Ternary with Covariates"
   ]
  },
  {
   "cell_type": "code",
   "execution_count": null,
   "id": "246d81b0",
   "metadata": {},
   "outputs": [],
   "source": [
    "# Preprocess the datasets\n",
    "script = 'preprocess_data.py'\n",
    "args = 'Task1_Outputs/Ternary_Dataset/train.jsonlist Task1_Outputs/Ternary_Dataset/With_Covariates --min-doc-count 10 --label label,aspect_1,aspect_2,aspect_3,aspect_4 --test=Task1_Outputs/Ternary_Dataset/test.jsonlist'\n",
    "print(\"python\", script, args)\n",
    "preprocess_data.main(args.split())"
   ]
  },
  {
   "cell_type": "code",
   "execution_count": null,
   "id": "3f4072f2",
   "metadata": {},
   "outputs": [],
   "source": [
    "script = 'run_scholar.py'\n",
    "args = 'Task1_Outputs/Ternary_Dataset/With_Covariates/ -o Task1_Outputs/Ternary_Dataset/With_Covariates/Output -k 15 --epochs 70 --dev-folds 10 --seed 42 --w2v=GoogleNews-vectors-negative300.bin --topic-covars aspect_1,aspect_2,aspect_3,aspect_4 --min-topic-covar-count 10 --label label --test=test'\n",
    "print(\"python\", script, args)\n",
    "run_scholar.main(args.split())"
   ]
  }
 ],
 "metadata": {
  "kernelspec": {
   "display_name": "Python 3.9",
   "language": "python",
   "name": "python3.9"
  },
  "language_info": {
   "codemirror_mode": {
    "name": "ipython",
    "version": 3
   },
   "file_extension": ".py",
   "mimetype": "text/x-python",
   "name": "python",
   "nbconvert_exporter": "python",
   "pygments_lexer": "ipython3",
   "version": "3.9.10"
  }
 },
 "nbformat": 4,
 "nbformat_minor": 5
}
