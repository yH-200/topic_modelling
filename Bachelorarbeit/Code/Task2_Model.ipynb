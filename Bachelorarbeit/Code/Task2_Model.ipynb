{
 "cells": [
  {
   "cell_type": "markdown",
   "id": "56ba6d68",
   "metadata": {},
   "source": [
    "### Training the model Kitty\n",
    "Since the results are not replicated, the cell outputs of the model training is left, please take a look at them first before executing the code <br>\n",
    "The model is saved though and can be loaded and tested, the functions for that are given below"
   ]
  },
  {
   "cell_type": "code",
   "execution_count": 1,
   "id": "e52d1977",
   "metadata": {},
   "outputs": [],
   "source": [
    "from contextualized_topic_models.models.kitty_classifier import Kitty\n",
    "from contextualized_topic_models.utils.data_preparation import TopicModelDataPreparation\n",
    "from contextualized_topic_models.utils.preprocessing import WhiteSpacePreprocessingStopwords\n",
    "import nltk\n",
    "from nltk.corpus import stopwords\n",
    "from sklearn.model_selection import train_test_split\n",
    "from sklearn.metrics import accuracy_score\n",
    "from sklearn.metrics import f1_score\n",
    "from sklearn.metrics import confusion_matrix\n",
    "from sklearn.metrics import classification_report\n",
    "import seaborn as sns\n",
    "import matplotlib.pyplot as plt\n",
    "import torch\n",
    "import random\n",
    "import numpy as np\n",
    "import csv"
   ]
  },
  {
   "cell_type": "code",
   "execution_count": 3,
   "id": "76991477",
   "metadata": {},
   "outputs": [],
   "source": [
    "# Import the dataset CSV file\n",
    "conan_dataset = []\n",
    "\n",
    "with open('Task2_Dataset.csv', 'r') as csvfile:\n",
    "    reader = csv.reader(csvfile)\n",
    "    conan_dataset_heading = next(reader)\n",
    "    for row in reader:\n",
    "        conan_dataset.append(row)\n",
    "        \n",
    "# Extract useful information that we need\n",
    "index = [element[0] for element in conan_dataset]\n",
    "tweets = [element[1] for element in conan_dataset]\n",
    "targets = [element[2] for element in conan_dataset]"
   ]
  },
  {
   "cell_type": "code",
   "execution_count": 4,
   "id": "206b6c4a",
   "metadata": {},
   "outputs": [],
   "source": [
    "# Split the train and test set\n",
    "x_train, x_test, y_train, y_test = train_test_split(tweets, targets, test_size=0.1)"
   ]
  },
  {
   "cell_type": "code",
   "execution_count": 16,
   "id": "cdfc5501",
   "metadata": {},
   "outputs": [
    {
     "name": "stderr",
     "output_type": "stream",
     "text": [
      "/home/yasmeen/.local/lib/python3.9/site-packages/sklearn/utils/deprecation.py:87: FutureWarning: Function get_feature_names is deprecated; get_feature_names is deprecated in 1.0 and will be removed in 1.2. Please use get_feature_names_out instead.\n",
      "  warnings.warn(msg, category=FutureWarning)\n"
     ]
    },
    {
     "data": {
      "application/vnd.jupyter.widget-view+json": {
       "model_id": "60814b27d0a04b6eacef6ed9f378fb3a",
       "version_major": 2,
       "version_minor": 0
      },
      "text/plain": [
       "Batches:   0%|          | 0/17 [00:00<?, ?it/s]"
      ]
     },
     "metadata": {},
     "output_type": "display_data"
    },
    {
     "name": "stderr",
     "output_type": "stream",
     "text": [
      "Epoch: [27/27]\t Seen Samples: [90342/90342]\tTrain Loss: 48.88230871370433\tTime: 0:00:01.235733: : 27it [00:37,  1.40s/it] \n",
      "Sampling: [20/20]: : 20it [00:13,  1.53it/s]"
     ]
    },
    {
     "name": "stdout",
     "output_type": "stream",
     "text": [
      "0\tmigrants, welcome, criminals, crime, rapists\n",
      "1\tgay, sex, homosexuality, gays, blood\n",
      "2\tjobs, immigrants, steal, immigration, work\n",
      "3\tcontrol, government, world, jews, better\n",
      "4\trefugees, learning, host, education, burden\n",
      "5\tislam, religion, ideology, violent, violence\n",
      "6\tgays, just, bunch, faggots, disgusting\n",
      "7\tislam, death, muslim, banned, cult\n",
      "8\tpeople, niggas, black, white, don\n",
      "9\tmuslims, us, country, want, muslim\n",
      "10\tfeminism, feminists, men, rights, equality\n",
      "11\twomen, basically, childlike, remain, weak\n",
      "12\tblack, blacks, inferior, white, different\n",
      "13\tplace, incompatible, nothing, western, modern\n",
      "14\tmuslims, problem, countries, uk, european\n",
      "15\tjewish, jews, bad, holocaust, greedy\n",
      "16\tdon, want, work, children, woman\n",
      "17\tdisabled, normal, children, syndrome, mentally\n"
     ]
    },
    {
     "name": "stderr",
     "output_type": "stream",
     "text": [
      "\n"
     ]
    }
   ],
   "source": [
    "# Train model\n",
    "kt = Kitty()\n",
    "kt.train(x_train, topics=18, epochs=27, stopwords_list=stopwords.words(\"english\"), embedding_model=\"paraphrase-distilroberta-base-v2\")\n",
    "\n",
    "print(kt.pretty_print_word_classes())"
   ]
  },
  {
   "cell_type": "code",
   "execution_count": 17,
   "id": "986f5dbe",
   "metadata": {},
   "outputs": [
    {
     "data": {
      "application/vnd.jupyter.widget-view+json": {
       "model_id": "c5dea78f473647f0a9b1383a7843c7c4",
       "version_major": 2,
       "version_minor": 0
      },
      "text/plain": [
       "Batches:   0%|          | 0/17 [00:00<?, ?it/s]"
      ]
     },
     "metadata": {},
     "output_type": "display_data"
    },
    {
     "name": "stderr",
     "output_type": "stream",
     "text": [
      "Sampling: [20/20]: : 20it [00:12,  1.56it/s]\n"
     ]
    },
    {
     "data": {
      "application/vnd.jupyter.widget-view+json": {
       "model_id": "a3d2f9560ade491e82f76a9ae72e7ab7",
       "version_major": 2,
       "version_minor": 0
      },
      "text/plain": [
       "Batches:   0%|          | 0/2 [00:00<?, ?it/s]"
      ]
     },
     "metadata": {},
     "output_type": "display_data"
    },
    {
     "name": "stderr",
     "output_type": "stream",
     "text": [
      "Sampling: [20/20]: : 20it [00:02,  8.18it/s]\n"
     ]
    }
   ],
   "source": [
    "# 'DISABLED', 'JEWS', 'LGBT+', 'MIGRANTS', 'MUSLIMS', 'POC', 'WOMEN', 'other'\n",
    "kt.assigned_classes = {0 : \"MIGRANTS\", 1 : \"LGBT+\", 2 : \"MIGRANTS\", 3 : \"JEWS\", 4: \"MIGRANTS\", 5: \"MUSLIMS\", \n",
    "                       6: \"LGBT+\", 7: \"MUSLIMS\", 8: \"POC\", 9: \"MUSLIMS\", 10: \"WOMEN\", 11: \"WOMEN\", \n",
    "                       12: \"POC\", 13: \"MUSLIMS\", 14: \"MUSLIMS\", 15: \"JEWS\", 16: \"WOMEN\", 17: \"DISABLED\"}\n",
    "#                        16: \"MIGRANTS\", 17: \"MUSLIMS\", 18: \"other\", 19: \"MIGRANTS\", 20: \"JEWS\", 21: \"MUSLIMS\"}\n",
    "#                        22: \"WOMEN\", 23: \"DISABLED\", 24: \"DISABLED\"}\n",
    "train_predictions = kt.predict(x_train)\n",
    "test_predictions = kt.predict(x_test)"
   ]
  },
  {
   "cell_type": "code",
   "execution_count": 18,
   "id": "e80ca3d2",
   "metadata": {
    "scrolled": false
   },
   "outputs": [
    {
     "name": "stdout",
     "output_type": "stream",
     "text": [
      "Train Accuracy: 80.3347280334728\n",
      "Test Accuracy: 83.33333333333334\n",
      "Train F1-Score (weighted): 78.28470179322728\n",
      "Test F1-Score (weighted): 82.44776968301734\n",
      "Train F1-Score (macro): 70.6046253466082\n",
      "Test F1-Score (macro): 71.03988571634154\n",
      "Train F1-Score (micro): 80.3347280334728\n",
      "Test F1-Score: (micro) 83.33333333333334\n",
      "Train:\n",
      "               precision    recall  f1-score   support\n",
      "\n",
      "    DISABLED       0.78      0.77      0.78       170\n",
      "        JEWS       0.87      0.77      0.81       419\n",
      "       LGBT+       0.71      0.88      0.79       332\n",
      "    MIGRANTS       0.81      0.81      0.81       573\n",
      "     MUSLIMS       0.89      0.85      0.87       929\n",
      "         POC       0.84      0.61      0.71       366\n",
      "       WOMEN       0.94      0.83      0.88       557\n",
      "       other       0.00      0.00      0.00         0\n",
      "\n",
      "    accuracy                           0.80      3346\n",
      "   macro avg       0.73      0.69      0.71      3346\n",
      "weighted avg       0.85      0.80      0.82      3346\n",
      "\n"
     ]
    },
    {
     "name": "stderr",
     "output_type": "stream",
     "text": [
      "/home/yasmeen/.local/lib/python3.9/site-packages/sklearn/metrics/_classification.py:1318: UndefinedMetricWarning: Recall and F-score are ill-defined and being set to 0.0 in labels with no true samples. Use `zero_division` parameter to control this behavior.\n",
      "  _warn_prf(average, modifier, msg_start, len(result))\n",
      "/home/yasmeen/.local/lib/python3.9/site-packages/sklearn/metrics/_classification.py:1318: UndefinedMetricWarning: Recall and F-score are ill-defined and being set to 0.0 in labels with no true samples. Use `zero_division` parameter to control this behavior.\n",
      "  _warn_prf(average, modifier, msg_start, len(result))\n",
      "/home/yasmeen/.local/lib/python3.9/site-packages/sklearn/metrics/_classification.py:1318: UndefinedMetricWarning: Recall and F-score are ill-defined and being set to 0.0 in labels with no true samples. Use `zero_division` parameter to control this behavior.\n",
      "  _warn_prf(average, modifier, msg_start, len(result))\n"
     ]
    },
    {
     "data": {
      "text/plain": [
       "<AxesSubplot:>"
      ]
     },
     "execution_count": 18,
     "metadata": {},
     "output_type": "execute_result"
    },
    {
     "data": {
      "image/png": "[encoded data removed]",
      "text/plain": [
       "<Figure size 1296x648 with 2 Axes>"
      ]
     },
     "metadata": {
      "needs_background": "light"
     },
     "output_type": "display_data"
    }
   ],
   "source": [
    "# Calculate the accuracy\n",
    "print(\"Train Accuracy:\", accuracy_score(train_predictions, y_train)*100)\n",
    "print(\"Test Accuracy:\", accuracy_score(test_predictions, y_test)*100)\n",
    "\n",
    "# Calculate F1-Score\n",
    "print(\"Train F1-Score (weighted):\", f1_score(y_train, train_predictions, average='weighted')*100)\n",
    "print(\"Test F1-Score (weighted):\", f1_score(y_test, test_predictions, average='weighted')*100)\n",
    "\n",
    "print(\"Train F1-Score (macro):\", f1_score(y_train, train_predictions, average='macro')*100)\n",
    "print(\"Test F1-Score (macro):\", f1_score(y_test, test_predictions, average='macro')*100)\n",
    "\n",
    "print(\"Train F1-Score (micro):\", f1_score(y_train, train_predictions, average='micro')*100)\n",
    "print(\"Test F1-Score: (micro)\", f1_score(y_test, test_predictions, average='micro')*100)\n",
    "\n",
    "\n",
    "print(\"Train:\\n\", classification_report(train_predictions, y_train))\n",
    "# print(\"Test:\\n\", classification_report(test_predictions, y_test))\n",
    "\n",
    "# Draw the confusion matrices\n",
    "# Index:      0          1       2         3           4        5       6        7 \n",
    "labels = ['DISABLED', 'JEWS', 'LGBT+', 'MIGRANTS', 'MUSLIMS', 'POC', 'WOMEN', 'other']\n",
    "train_cm = confusion_matrix(y_train, train_predictions, labels=labels)\n",
    "test_cm = confusion_matrix(y_test, test_predictions, labels=labels)\n",
    "\n",
    "plt.figure(figsize=(18,9))\n",
    "# Train\n",
    "ax_train = plt.subplot(1,2,1)\n",
    "sns.heatmap(train_cm, annot=True, fmt='g', cbar=False, ax=ax_train)\n",
    "\n",
    "# labels, title and ticks\n",
    "ax_train.set_xlabel('Prediction')\n",
    "ax_train.set_ylabel('Actual')\n",
    "\n",
    "# Test\n",
    "ax_test = plt.subplot(1,2,2)\n",
    "sns.heatmap(test_cm, annot=True, fmt='g', cbar=False, ax=ax_test)"
   ]
  },
  {
   "cell_type": "markdown",
   "id": "f97a724e",
   "metadata": {},
   "source": [
    "### Saving the model\n",
    "In case you want to save the model, please execute the cell below, if not then just skip this part"
   ]
  },
  {
   "cell_type": "code",
   "execution_count": 19,
   "id": "559e669b",
   "metadata": {},
   "outputs": [],
   "source": [
    "# Save model\n",
    "kt.save(\"TestSave.pkl\")"
   ]
  },
  {
   "cell_type": "markdown",
   "id": "2f74e1ea",
   "metadata": {},
   "source": [
    "### Loading the model produced by the experiment\n",
    "The model described in this experiment is loaded and tested. <br>\n",
    "It is a topic model with epochs=27,topics=18 and the accuracy=80"
   ]
  },
  {
   "cell_type": "code",
   "execution_count": null,
   "id": "f7cb99c1",
   "metadata": {},
   "outputs": [],
   "source": [
    "# Load model\n",
    "kt_saved = Kitty.load(\"TM_e27t18a80.pkl\")\n",
    "# Predict\n",
    "train_predictions_saved = kt_saved.predict(x_train)\n",
    "test_predictions_saved = kt_saved.predict(x_test)"
   ]
  },
  {
   "cell_type": "code",
   "execution_count": null,
   "id": "f2226383",
   "metadata": {},
   "outputs": [],
   "source": [
    "# Calculate the accuracy\n",
    "print(\"Train Accuracy:\", accuracy_score(train_predictions_saved, y_train)*100)\n",
    "print(\"Test Accuracy:\", accuracy_score(test_predictions_saved, y_test)*100)\n",
    "\n",
    "# Calculate F1-Score\n",
    "print(\"Train F1-Score (weighted):\", f1_score(y_train, train_predictions_saved, average='weighted')*100)\n",
    "print(\"Test F1-Score (weighted):\", f1_score(y_test, test_predictions_saved, average='weighted')*100)\n",
    "\n",
    "print(\"Train F1-Score (macro):\", f1_score(y_train, train_predictions_saved, average='macro')*100)\n",
    "print(\"Test F1-Score (macro):\", f1_score(y_test, test_predictions_saved, average='macro')*100)\n",
    "\n",
    "print(\"Train F1-Score (micro):\", f1_score(y_train, train_predictions_saved, average='micro')*100)\n",
    "print(\"Test F1-Score: (micro)\", f1_score(y_test, test_predictions_saved, average='micro')*100)\n",
    "\n",
    "# Draw the confusion matrices\n",
    "# Index:      0          1       2         3           4        5       6        7 \n",
    "labels = ['DISABLED', 'JEWS', 'LGBT+', 'MIGRANTS', 'MUSLIMS', 'POC', 'WOMEN', 'other']\n",
    "train_cm = confusion_matrix(y_train, train_predictions_saved, labels=labels)\n",
    "test_cm = confusion_matrix(y_test, test_predictions_saved, labels=labels)\n",
    "\n",
    "plt.figure(figsize=(18,9))\n",
    "# Train\n",
    "ax_train = plt.subplot(1,2,1)\n",
    "sns.heatmap(train_cm, annot=True, fmt='g', cbar=False, ax=ax_train)\n",
    "\n",
    "# labels, title and ticks\n",
    "ax_train.set_xlabel('Prediction')\n",
    "ax_train.set_ylabel('Actual')\n",
    "\n",
    "# Test\n",
    "ax_test = plt.subplot(1,2,2)\n",
    "sns.heatmap(test_cm, annot=True, fmt='g', cbar=False, ax=ax_test)"
   ]
  }
 ],
 "metadata": {
  "kernelspec": {
   "display_name": "Python 3.9",
   "language": "python",
   "name": "python3.9"
  },
  "language_info": {
   "codemirror_mode": {
    "name": "ipython",
    "version": 3
   },
   "file_extension": ".py",
   "mimetype": "text/x-python",
   "name": "python",
   "nbconvert_exporter": "python",
   "pygments_lexer": "ipython3",
   "version": "3.9.10"
  }
 },
 "nbformat": 4,
 "nbformat_minor": 5
}
