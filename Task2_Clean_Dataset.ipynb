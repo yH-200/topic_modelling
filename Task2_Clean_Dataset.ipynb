{
 "cells": [
  {
   "cell_type": "markdown",
   "id": "633045d0",
   "metadata": {},
   "source": [
    "### Cleaning the CONAN Dataset\n",
    "The dataset is already cleaned and stored under Task2_Dataset.csv"
   ]
  },
  {
   "cell_type": "code",
   "execution_count": null,
   "id": "fcbfd9f2",
   "metadata": {},
   "outputs": [],
   "source": [
    "import nltk\n",
    "import csv\n",
    "import re\n",
    "import string"
   ]
  },
  {
   "cell_type": "code",
   "execution_count": null,
   "id": "b8fa29a4",
   "metadata": {},
   "outputs": [],
   "source": [
    "# Import the dataset CSV file\n",
    "conan_dataset = []\n",
    "\n",
    "with open('Multitarget-CONAN.csv') as csvfile:\n",
    "    reader = csv.reader(csvfile)\n",
    "    conan_dataset_heading = next(reader)\n",
    "    for row in reader:\n",
    "        conan_dataset.append(row)"
   ]
  },
  {
   "cell_type": "code",
   "execution_count": null,
   "id": "8288885e",
   "metadata": {},
   "outputs": [],
   "source": [
    "# Extract useful information that we need\n",
    "ids = [element[0] for element in conan_dataset]\n",
    "tweets = [element[1] for element in conan_dataset]\n",
    "targets = [element[3] for element in conan_dataset]\n",
    "versions = [element[4] for element in conan_dataset]"
   ]
  },
  {
   "cell_type": "code",
   "execution_count": null,
   "id": "84d242f7",
   "metadata": {},
   "outputs": [],
   "source": [
    "# Get rid of duplicates\n",
    "tweets_no_duplicates = []\n",
    "targets_no_duplicates = []\n",
    "for i in range(len(conan_dataset)):\n",
    "    if tweets[i] not in tweets_no_duplicates:\n",
    "        tweets_no_duplicates.append(tweets[i])\n",
    "        targets_no_duplicates.append(targets[i])    "
   ]
  },
  {
   "cell_type": "code",
   "execution_count": null,
   "id": "66f49bbe",
   "metadata": {},
   "outputs": [],
   "source": [
    "# Export the dataset to a CSV file\n",
    "heading = [\"ID\", \"Tweet\", \"Target\"]\n",
    "\n",
    "with open(\"Task2_Dataset.csv\", \"w\") as csvfile:\n",
    "    writer = csv.writer(csvfile)\n",
    "    writer.writerow(heading)\n",
    "    for i in range(len(tweets_no_duplicates)):\n",
    "        writer.writerow([i, tweets_no_duplicates[i], targets_no_duplicates[i]])"
   ]
  }
 ],
 "metadata": {
  "kernelspec": {
   "display_name": "Python 3.9",
   "language": "python",
   "name": "python3.9"
  },
  "language_info": {
   "codemirror_mode": {
    "name": "ipython",
    "version": 3
   },
   "file_extension": ".py",
   "mimetype": "text/x-python",
   "name": "python",
   "nbconvert_exporter": "python",
   "pygments_lexer": "ipython3",
   "version": "3.9.10"
  }
 },
 "nbformat": 4,
 "nbformat_minor": 5
}
